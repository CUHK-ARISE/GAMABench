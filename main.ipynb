{
 "cells": [
  {
   "cell_type": "markdown",
   "metadata": {},
   "source": [
    "## Import modules"
   ]
  },
  {
   "cell_type": "markdown",
   "metadata": {},
   "source": [
    "### Import files"
   ]
  },
  {
   "cell_type": "code",
   "execution_count": 1,
   "metadata": {},
   "outputs": [],
   "source": [
    "from server import *\n",
    "from prompt_template.prompt_rephrase import *\n",
    "from global_functions import *"
   ]
  },
  {
   "cell_type": "markdown",
   "metadata": {},
   "source": [
    "### Import games"
   ]
  },
  {
   "cell_type": "code",
   "execution_count": 2,
   "metadata": {},
   "outputs": [],
   "source": [
    "from games.guessing_game import *\n",
    "from games.bar_game import *\n",
    "from games.pirate_game import *\n",
    "from games.diner_dilemma import *\n",
    "from games.divide_dollar import *\n",
    "from games.sealed_bid_auction import *\n",
    "from games.public_goods import *\n",
    "from games.battle_royale import *"
   ]
  },
  {
   "cell_type": "markdown",
   "metadata": {},
   "source": [
    "### Import board"
   ]
  },
  {
   "cell_type": "code",
   "execution_count": null,
   "metadata": {},
   "outputs": [],
   "source": [
    "from board import *\n",
    "board = Leaderboard()\n",
    "board.show()"
   ]
  },
  {
   "cell_type": "markdown",
   "metadata": {},
   "source": [
    "## Operations"
   ]
  },
  {
   "cell_type": "markdown",
   "metadata": {},
   "source": [
    "### Rephrase prompt templates"
   ]
  },
  {
   "cell_type": "code",
   "execution_count": null,
   "metadata": {},
   "outputs": [],
   "source": [
    "game_file = 'bar_game'\n",
    "rephrase_files = ['description', 'report_explicit', 'report_implicit', 'request']\n",
    "rephrase([f\"prompt_template/{game_file}/{f}_v1.txt\" for f in rephrase_files], replace_suffix=\"v1\", suffix=\"v2\")"
   ]
  },
  {
   "cell_type": "markdown",
   "metadata": {},
   "source": [
    "## Game Run"
   ]
  },
  {
   "cell_type": "markdown",
   "metadata": {},
   "source": [
    "### Model Configuration"
   ]
  },
  {
   "cell_type": "code",
   "execution_count": null,
   "metadata": {},
   "outputs": [],
   "source": [
    "# Set all players to be gpt-3.5-turbo\n",
    "models = 'gpt-3.5-turbo'    \n",
    "\n",
    "# Players in odd position are gpt-3.5-turbo, even position are gpt-4\n",
    "player_num = 10\n",
    "models = ['gpt-3.5-turbo' if i%2==0 else 'gpt-4' for i in range(player_num)]"
   ]
  },
  {
   "cell_type": "markdown",
   "metadata": {},
   "source": [
    "### Game Run (Guessing Game)"
   ]
  },
  {
   "cell_type": "code",
   "execution_count": null,
   "metadata": {},
   "outputs": [],
   "source": [
    "# Initialize guessing game with parameters\n",
    "game = GuessingGame(player_num=10, min=0, max=100, ratio=2/3, ratio_str='2/3', version='v1')\n",
    "\n",
    "# Run for 20 rounds\n",
    "game.run(20)"
   ]
  },
  {
   "cell_type": "markdown",
   "metadata": {},
   "source": [
    "### Game Load (Guessing Game)"
   ]
  },
  {
   "cell_type": "code",
   "execution_count": null,
   "metadata": {},
   "outputs": [],
   "source": [
    "game = load('save/guessing_game.json', GuessingGame)  # load the saved data \n",
    "game = load('save/guessing_game.json', GuessingGame, 'guessing_game2')  # load and save as new file\n",
    "\n",
    "# Run for 20 more rounds\n",
    "game.run(20)"
   ]
  },
  {
   "cell_type": "markdown",
   "metadata": {},
   "source": [
    "### Game Show"
   ]
  },
  {
   "cell_type": "code",
   "execution_count": null,
   "metadata": {},
   "outputs": [],
   "source": [
    "# Show the analysis results with specifying players\n",
    "game.show('model', ['gpt-3.5-turbo'])\n",
    "game.show('id', [f\"player_{i}\" for i in range(player_num) if i%2==0])"
   ]
  },
  {
   "cell_type": "markdown",
   "metadata": {},
   "source": [
    "## Analysis \n",
    "- only available for `GuessingGame`, `BarGame`, `DivideDollar`, `DinerDilemma`"
   ]
  },
  {
   "cell_type": "markdown",
   "metadata": {},
   "source": [
    "### Import files"
   ]
  },
  {
   "cell_type": "code",
   "execution_count": 1,
   "metadata": {},
   "outputs": [],
   "source": [
    "from server import *\n",
    "from global_functions import *\n",
    "from analysis.analysis import *"
   ]
  },
  {
   "cell_type": "markdown",
   "metadata": {},
   "source": [
    "### Import games"
   ]
  },
  {
   "cell_type": "code",
   "execution_count": 2,
   "metadata": {},
   "outputs": [],
   "source": [
    "from games.guessing_game import *\n",
    "from games.bar_game import *\n",
    "from games.diner_dilemma import *\n",
    "from games.divide_dollar import *"
   ]
  },
  {
   "cell_type": "markdown",
   "metadata": {},
   "source": [
    "### Plot"
   ]
  },
  {
   "cell_type": "code",
   "execution_count": null,
   "metadata": {},
   "outputs": [],
   "source": [
    "# Create a game plane\n",
    "plane = Analysis(GuessingGame)\n",
    "\n",
    "# Load the files with the same label\n",
    "files = [f'raw_results/guessing_game/gpt-3.5-turbo-0613_guessing_game_v1_{i}.json' for i in range(1,6)]\n",
    "plane.add_avg(files, \"GPT-3.5-0613\")\n",
    "\n",
    "files = [f'raw_results/guessing_game/gpt-3.5-turbo-1106_guessing_game_v1_{i}.json' for i in range(1,6)]\n",
    "plane.add_avg(files, \"GPT-3.5-1106\")\n",
    "\n",
    "files = [f'raw_results/guessing_game/guessing_game_v1_{i}.json' for i in range(1,6)]\n",
    "plane.add_avg(files, \"GPT-3.5-0125\")\n",
    "\n",
    "files = [f'raw_results/guessing_game/gpt-4-0125-preview_guessing_game_v1_{i}.json' for i in range(1,6)]\n",
    "plane.add_avg(files, \"GPT-4-0125\")\n",
    "\n",
    "files = [f'raw_results/guessing_game/gemini-1.0-pro_guessing_game_v1_{i}.json' for i in range(1,6)]\n",
    "plane.add_avg(files, \"Gemini-1.0-Pro\")\n",
    "\n",
    "files = [f'raw_results/guessing_game/gemini-1.5-pro_guessing_game_v1_{i}.json' for i in range(1,6)]\n",
    "plane.add_avg(files, \"Gemini-1.5-Pro\")\n",
    "\n",
    "# Plot the game\n",
    "plane.plot(xlabel=\"\", ylim=(-5, 105), savename=\"closed-source_guessing_game\")"
   ]
  }
 ],
 "metadata": {
  "kernelspec": {
   "display_name": "env_python",
   "language": "python",
   "name": "python3"
  },
  "language_info": {
   "codemirror_mode": {
    "name": "ipython",
    "version": 3
   },
   "file_extension": ".py",
   "mimetype": "text/x-python",
   "name": "python",
   "nbconvert_exporter": "python",
   "pygments_lexer": "ipython3",
   "version": "3.8.7"
  }
 },
 "nbformat": 4,
 "nbformat_minor": 2
}
