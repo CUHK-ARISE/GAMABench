{
 "cells": [
  {
   "cell_type": "code",
   "execution_count": null,
   "metadata": {},
   "outputs": [],
   "source": [
    "from server import *\n",
    "from prompt_template.prompt_rephrase import *\n",
    "from global_functions import *\n",
    "\n",
    "from games.guessing_game import *\n",
    "from games.bar_game import *\n",
    "from games.pirate_game import *\n",
    "from games.diner_dilemma import *\n",
    "from games.divide_dollar import *\n",
    "from games.vickrey_auction import *\n",
    "from games.public_goods_game import *\n",
    "from games.battle_royale import *"
   ]
  },
  {
   "cell_type": "code",
   "execution_count": null,
   "metadata": {},
   "outputs": [],
   "source": [
    "# Rephrase demo\n",
    "rephrase_files = ['description', 'report', 'request']\n",
    "rephrase([f\"prompt_template/bar_game/{f}.txt\" for f in rephrase_files])"
   ]
  },
  {
   "cell_type": "code",
   "execution_count": null,
   "metadata": {},
   "outputs": [],
   "source": [
    "# Game Configuration\n",
    "player_num = 10\n",
    "models = ['gpt-3.5-turbo' if i%2==0 else 'gpt-4' for i in range(player_num)]"
   ]
  },
  {
   "cell_type": "code",
   "execution_count": null,
   "metadata": {},
   "outputs": [],
   "source": [
    "# Guessing Game\n",
    "min, max, ratio, ratio_str = 0, 100, 2/3, '2/3'\n",
    "\n",
    "# init\n",
    "guessing_game = GuessingGame(player_num, min, max, ratio, ratio_str)\n",
    "guessing_game.run(5)\n",
    "\n",
    "# load & select\n",
    "game = load('save/guessing_game.json', GuessingGame, 'guessing_game2')  # load and rename the saved data \n",
    "game.run(5)\n",
    "\n",
    "game.show('model', ['gpt-3.5-turbo'])\n",
    "game.show('id', [f\"player_{i}\" for i in range(player_num) if i%2==0])"
   ]
  },
  {
   "cell_type": "code",
   "execution_count": null,
   "metadata": {},
   "outputs": [],
   "source": [
    "# Bar Game\n",
    "min_utility, max_utility, home_utility, ratio, ratio_str = 0, 10, 5, 0.6, '60%'\n",
    "\n",
    "# init\n",
    "bargame_explicit = BarGame(player_num, min_utility, max_utility, home_utility, ratio, \n",
    "                  ratio_str, mode='explicit', name_exp='bargame_explicit')\n",
    "bargame_implicit = BarGame(player_num, min_utility, max_utility, home_utility, ratio, \n",
    "                  ratio_str, mode='implicit', name_exp='bargame_implicit')\n",
    "\n",
    "bargame_explicit.run(5)\n",
    "bargame_implicit.run(5)"
   ]
  },
  {
   "cell_type": "code",
   "execution_count": null,
   "metadata": {},
   "outputs": [],
   "source": [
    "# Pirate Game\n",
    "pirate_game = PirateGame(player_num=10, gold=100)\n",
    "pirate_game.run(10)"
   ]
  },
  {
   "cell_type": "code",
   "execution_count": null,
   "metadata": {},
   "outputs": [],
   "source": [
    "# Divide the Dollar Game\n",
    "golds = 100\n",
    "golds = 200\n",
    "\n",
    "divide_dollar = DivideDollar(player_num, golds)\n",
    "divide_dollar.run(5)"
   ]
  },
  {
   "cell_type": "code",
   "execution_count": null,
   "metadata": {},
   "outputs": [],
   "source": [
    "# Diner Dilemma\n",
    "cheap_cost, cheap_utility, exp_cost, exp_utility = 20, 40, 50, 60\n",
    "cheap_cost, cheap_utility, exp_cost, exp_utility = 5, 15, 10, 17\n",
    "\n",
    "diner_dilemma = DinerDilemma(player_num, cheap_cost, cheap_utility, exp_cost, exp_utility)\n",
    "diner_dilemma.run(5)"
   ]
  },
  {
   "cell_type": "code",
   "execution_count": null,
   "metadata": {},
   "outputs": [],
   "source": [
    "# Vickrey auction \n",
    "vickrey_auction = VickreyAuction(player_num=10, valuation=100)\n",
    "vickrey_auction.run(20)"
   ]
  },
  {
   "cell_type": "code",
   "execution_count": null,
   "metadata": {},
   "outputs": [],
   "source": [
    "# Public Goods Game\n",
    "public_goods_game = PublicGoodsGame(player_num, 100, random.randint(1, player_num / 2))\n",
    "public_goods_game.run(20)"
   ]
  },
  {
   "cell_type": "code",
   "execution_count": null,
   "metadata": {},
   "outputs": [],
   "source": [
    "# Battle Royale\n",
    "battle_royale = BattleRoyale(player_num=10)\n",
    "battle_royale.run(20)"
   ]
  }
 ],
 "metadata": {
  "kernelspec": {
   "display_name": "env_python",
   "language": "python",
   "name": "python3"
  },
  "language_info": {
   "codemirror_mode": {
    "name": "ipython",
    "version": 3
   },
   "file_extension": ".py",
   "mimetype": "text/x-python",
   "name": "python",
   "nbconvert_exporter": "python",
   "pygments_lexer": "ipython3",
   "version": "3.10.6"
  }
 },
 "nbformat": 4,
 "nbformat_minor": 2
}
