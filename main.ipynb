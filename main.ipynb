{
 "cells": [
  {
   "cell_type": "markdown",
   "metadata": {},
   "source": [
    "## Import modules"
   ]
  },
  {
   "cell_type": "markdown",
   "metadata": {},
   "source": [
    "### Import files"
   ]
  },
  {
   "cell_type": "code",
   "execution_count": 1,
   "metadata": {},
   "outputs": [],
   "source": [
    "from server import *\n",
    "from prompt_template.prompt_rephrase import *\n",
    "from global_functions import *"
   ]
  },
  {
   "cell_type": "markdown",
   "metadata": {},
   "source": [
    "### Import games"
   ]
  },
  {
   "cell_type": "code",
   "execution_count": 2,
   "metadata": {},
   "outputs": [],
   "source": [
    "from games.guessing_game import *\n",
    "from games.bar_game import *\n",
    "from games.pirate_game import *\n",
    "from games.diner_dilemma import *\n",
    "from games.divide_dollar import *\n",
    "from games.sealed_bid_auction import *\n",
    "from games.public_goods import *\n",
    "from games.battle_royale import *"
   ]
  },
  {
   "cell_type": "markdown",
   "metadata": {},
   "source": [
    "### Import board"
   ]
  },
  {
   "cell_type": "code",
   "execution_count": 3,
   "metadata": {},
   "outputs": [
    {
     "data": {
      "text/html": [
       "<div>\n",
       "<style scoped>\n",
       "    .dataframe tbody tr th:only-of-type {\n",
       "        vertical-align: middle;\n",
       "    }\n",
       "\n",
       "    .dataframe tbody tr th {\n",
       "        vertical-align: top;\n",
       "    }\n",
       "\n",
       "    .dataframe thead th {\n",
       "        text-align: right;\n",
       "    }\n",
       "</style>\n",
       "<table border=\"1\" class=\"dataframe\">\n",
       "  <thead>\n",
       "    <tr style=\"text-align: right;\">\n",
       "      <th></th>\n",
       "      <th>Overall</th>\n",
       "      <th>Guessing</th>\n",
       "      <th>Bar</th>\n",
       "      <th>Dollar</th>\n",
       "      <th>Goods</th>\n",
       "      <th>Diner</th>\n",
       "      <th>Auction</th>\n",
       "      <th>Battle</th>\n",
       "      <th>Pirate</th>\n",
       "    </tr>\n",
       "  </thead>\n",
       "  <tbody>\n",
       "    <tr>\n",
       "      <th>👑**Gemini-1.5-Pro**</th>\n",
       "      <td>68.1</td>\n",
       "      <td>95.4</td>\n",
       "      <td>37.2</td>\n",
       "      <td>93.8</td>\n",
       "      <td>100.0</td>\n",
       "      <td>35.9</td>\n",
       "      <td>13.3</td>\n",
       "      <td>81.3</td>\n",
       "      <td>87.9</td>\n",
       "    </tr>\n",
       "    <tr>\n",
       "      <th>LLaMA-3.1-70B</th>\n",
       "      <td>64.5</td>\n",
       "      <td>84.0</td>\n",
       "      <td>59.7</td>\n",
       "      <td>87.0</td>\n",
       "      <td>90.6</td>\n",
       "      <td>48.1</td>\n",
       "      <td>4.5</td>\n",
       "      <td>77.7</td>\n",
       "      <td>64.0</td>\n",
       "    </tr>\n",
       "    <tr>\n",
       "      <th>Mixtral-8x22B</th>\n",
       "      <td>61.4</td>\n",
       "      <td>83.6</td>\n",
       "      <td>39.3</td>\n",
       "      <td>79.0</td>\n",
       "      <td>83.7</td>\n",
       "      <td>79.9</td>\n",
       "      <td>5.2</td>\n",
       "      <td>36.0</td>\n",
       "      <td>84.3</td>\n",
       "    </tr>\n",
       "    <tr>\n",
       "      <th>GPT-4-0125</th>\n",
       "      <td>60.5</td>\n",
       "      <td>91.6</td>\n",
       "      <td>23.0</td>\n",
       "      <td>98.1</td>\n",
       "      <td>89.2</td>\n",
       "      <td>0.9</td>\n",
       "      <td>8.7</td>\n",
       "      <td>86.8</td>\n",
       "      <td>85.4</td>\n",
       "    </tr>\n",
       "    <tr>\n",
       "      <th>LLaMA-3.1-405B</th>\n",
       "      <td>60.4</td>\n",
       "      <td>94.3</td>\n",
       "      <td>20.5</td>\n",
       "      <td>94.9</td>\n",
       "      <td>97.0</td>\n",
       "      <td>14.4</td>\n",
       "      <td>4.2</td>\n",
       "      <td>92.7</td>\n",
       "      <td>65.6</td>\n",
       "    </tr>\n",
       "    <tr>\n",
       "      <th>Qwen-2-72B</th>\n",
       "      <td>56.5</td>\n",
       "      <td>93.2</td>\n",
       "      <td>17.0</td>\n",
       "      <td>91.9</td>\n",
       "      <td>81.3</td>\n",
       "      <td>0.0</td>\n",
       "      <td>0.9</td>\n",
       "      <td>81.7</td>\n",
       "      <td>86.1</td>\n",
       "    </tr>\n",
       "    <tr>\n",
       "      <th>LLaMA-3.1-8B</th>\n",
       "      <td>53.4</td>\n",
       "      <td>85.5</td>\n",
       "      <td>75.7</td>\n",
       "      <td>56.4</td>\n",
       "      <td>19.6</td>\n",
       "      <td>59.3</td>\n",
       "      <td>16.9</td>\n",
       "      <td>35.9</td>\n",
       "      <td>78.3</td>\n",
       "    </tr>\n",
       "    <tr>\n",
       "      <th>GPT-3.5-1106</th>\n",
       "      <td>44.6</td>\n",
       "      <td>68.5</td>\n",
       "      <td>64.3</td>\n",
       "      <td>70.3</td>\n",
       "      <td>43.5</td>\n",
       "      <td>1.4</td>\n",
       "      <td>3.4</td>\n",
       "      <td>35.7</td>\n",
       "      <td>69.5</td>\n",
       "    </tr>\n",
       "    <tr>\n",
       "      <th>Gemini-1.0-Pro</th>\n",
       "      <td>43.6</td>\n",
       "      <td>77.3</td>\n",
       "      <td>33.5</td>\n",
       "      <td>77.6</td>\n",
       "      <td>68.5</td>\n",
       "      <td>3.1</td>\n",
       "      <td>14.9</td>\n",
       "      <td>16.5</td>\n",
       "      <td>57.4</td>\n",
       "    </tr>\n",
       "    <tr>\n",
       "      <th>GPT-3.5-0125</th>\n",
       "      <td>43.5</td>\n",
       "      <td>63.4</td>\n",
       "      <td>68.7</td>\n",
       "      <td>68.6</td>\n",
       "      <td>38.9</td>\n",
       "      <td>2.8</td>\n",
       "      <td>5.5</td>\n",
       "      <td>28.6</td>\n",
       "      <td>71.6</td>\n",
       "    </tr>\n",
       "    <tr>\n",
       "      <th>Mixtral-8x7B</th>\n",
       "      <td>43.1</td>\n",
       "      <td>91.8</td>\n",
       "      <td>66.8</td>\n",
       "      <td>1.2</td>\n",
       "      <td>27.6</td>\n",
       "      <td>76.4</td>\n",
       "      <td>0.8</td>\n",
       "      <td>12.6</td>\n",
       "      <td>67.3</td>\n",
       "    </tr>\n",
       "    <tr>\n",
       "      <th>GPT-3.5-0613</th>\n",
       "      <td>41.9</td>\n",
       "      <td>41.4</td>\n",
       "      <td>74.8</td>\n",
       "      <td>42.4</td>\n",
       "      <td>17.7</td>\n",
       "      <td>67.0</td>\n",
       "      <td>4.2</td>\n",
       "      <td>19.5</td>\n",
       "      <td>68.4</td>\n",
       "    </tr>\n",
       "  </tbody>\n",
       "</table>\n",
       "</div>"
      ],
      "text/plain": [
       "                     Overall  Guessing   Bar  Dollar  Goods  Diner  Auction  \\\n",
       "👑**Gemini-1.5-Pro**     68.1      95.4  37.2    93.8  100.0   35.9     13.3   \n",
       "LLaMA-3.1-70B           64.5      84.0  59.7    87.0   90.6   48.1      4.5   \n",
       "Mixtral-8x22B           61.4      83.6  39.3    79.0   83.7   79.9      5.2   \n",
       "GPT-4-0125              60.5      91.6  23.0    98.1   89.2    0.9      8.7   \n",
       "LLaMA-3.1-405B          60.4      94.3  20.5    94.9   97.0   14.4      4.2   \n",
       "Qwen-2-72B              56.5      93.2  17.0    91.9   81.3    0.0      0.9   \n",
       "LLaMA-3.1-8B            53.4      85.5  75.7    56.4   19.6   59.3     16.9   \n",
       "GPT-3.5-1106            44.6      68.5  64.3    70.3   43.5    1.4      3.4   \n",
       "Gemini-1.0-Pro          43.6      77.3  33.5    77.6   68.5    3.1     14.9   \n",
       "GPT-3.5-0125            43.5      63.4  68.7    68.6   38.9    2.8      5.5   \n",
       "Mixtral-8x7B            43.1      91.8  66.8     1.2   27.6   76.4      0.8   \n",
       "GPT-3.5-0613            41.9      41.4  74.8    42.4   17.7   67.0      4.2   \n",
       "\n",
       "                     Battle  Pirate  \n",
       "👑**Gemini-1.5-Pro**    81.3    87.9  \n",
       "LLaMA-3.1-70B          77.7    64.0  \n",
       "Mixtral-8x22B          36.0    84.3  \n",
       "GPT-4-0125             86.8    85.4  \n",
       "LLaMA-3.1-405B         92.7    65.6  \n",
       "Qwen-2-72B             81.7    86.1  \n",
       "LLaMA-3.1-8B           35.9    78.3  \n",
       "GPT-3.5-1106           35.7    69.5  \n",
       "Gemini-1.0-Pro         16.5    57.4  \n",
       "GPT-3.5-0125           28.6    71.6  \n",
       "Mixtral-8x7B           12.6    67.3  \n",
       "GPT-3.5-0613           19.5    68.4  "
      ]
     },
     "execution_count": 3,
     "metadata": {},
     "output_type": "execute_result"
    }
   ],
   "source": [
    "from board import *\n",
    "board = Leaderboard()\n",
    "board.show()"
   ]
  },
  {
   "cell_type": "markdown",
   "metadata": {},
   "source": [
    "## Operations"
   ]
  },
  {
   "cell_type": "markdown",
   "metadata": {},
   "source": [
    "### Rephrase prompt templates"
   ]
  },
  {
   "cell_type": "code",
   "execution_count": 4,
   "metadata": {},
   "outputs": [
    {
     "name": "stdout",
     "output_type": "stream",
     "text": [
      "Rephrasing\n"
     ]
    },
    {
     "name": "stderr",
     "output_type": "stream",
     "text": [
      "  0%|          | 0/4 [00:00<?, ?it/s]"
     ]
    },
    {
     "name": "stdout",
     "output_type": "stream",
     "text": [
      "Cannot extract the rephrase sentences, now request again.\n",
      "Cannot extract the rephrase sentences, now request again.\n",
      "Cannot extract the rephrase sentences, now request again.\n",
      "Cannot extract the rephrase sentences, now request again.\n",
      "Cannot extract the rephrase sentences, now request again.\n"
     ]
    }
   ],
   "source": [
    "game_file = 'bar_game'\n",
    "rephrase_files = ['description', 'report_explicit', 'report_implicit', 'request']\n",
    "rephrase([f\"prompt_template/{game_file}/{f}_v1.txt\" for f in rephrase_files], replace_suffix=\"v1\", suffix=\"v2\")"
   ]
  },
  {
   "cell_type": "markdown",
   "metadata": {},
   "source": [
    "## Game Run"
   ]
  },
  {
   "cell_type": "markdown",
   "metadata": {},
   "source": [
    "### Model Configuration"
   ]
  },
  {
   "cell_type": "code",
   "execution_count": null,
   "metadata": {},
   "outputs": [],
   "source": [
    "# Set all players to be gpt-3.5-turbo\n",
    "models = 'gpt-3.5-turbo'    \n",
    "\n",
    "# Players in odd position are gpt-3.5-turbo, even position are gpt-4\n",
    "player_num = 10\n",
    "models = ['gpt-3.5-turbo' if i%2==0 else 'gpt-4' for i in range(player_num)]"
   ]
  },
  {
   "cell_type": "markdown",
   "metadata": {},
   "source": [
    "### Game Run (Guessing Game)"
   ]
  },
  {
   "cell_type": "code",
   "execution_count": null,
   "metadata": {},
   "outputs": [],
   "source": [
    "# Initialize guessing game with parameters\n",
    "game = GuessingGame(player_num=10, min=0, max=100, ratio=2/3, ratio_str='2/3', version='v1')\n",
    "\n",
    "# Run for 20 rounds\n",
    "game.run(20)"
   ]
  },
  {
   "cell_type": "markdown",
   "metadata": {},
   "source": [
    "### Game Load (Guessing Game)"
   ]
  },
  {
   "cell_type": "code",
   "execution_count": null,
   "metadata": {},
   "outputs": [],
   "source": [
    "game = load('save/guessing_game.json', GuessingGame)  # load the saved data \n",
    "game = load('save/guessing_game.json', GuessingGame, 'guessing_game2')  # load and save as new file\n",
    "\n",
    "# Run for 20 more rounds\n",
    "game.run(20)"
   ]
  },
  {
   "cell_type": "markdown",
   "metadata": {},
   "source": [
    "### Game Show"
   ]
  },
  {
   "cell_type": "code",
   "execution_count": null,
   "metadata": {},
   "outputs": [],
   "source": [
    "# Show the analysis results with specifying players\n",
    "game.show('model', ['gpt-3.5-turbo'])\n",
    "game.show('id', [f\"player_{i}\" for i in range(player_num) if i%2==0])"
   ]
  },
  {
   "cell_type": "markdown",
   "metadata": {},
   "source": [
    "## Analysis \n",
    "- only available for `GuessingGame`, `BarGame`, `DivideDollar`, `DinerDilemma`"
   ]
  },
  {
   "cell_type": "markdown",
   "metadata": {},
   "source": [
    "### Import files"
   ]
  },
  {
   "cell_type": "code",
   "execution_count": 1,
   "metadata": {},
   "outputs": [],
   "source": [
    "from server import *\n",
    "from global_functions import *\n",
    "from analysis.analysis import *"
   ]
  },
  {
   "cell_type": "markdown",
   "metadata": {},
   "source": [
    "### Import games"
   ]
  },
  {
   "cell_type": "code",
   "execution_count": 2,
   "metadata": {},
   "outputs": [],
   "source": [
    "from games.guessing_game import *\n",
    "from games.bar_game import *\n",
    "from games.diner_dilemma import *\n",
    "from games.divide_dollar import *"
   ]
  },
  {
   "cell_type": "markdown",
   "metadata": {},
   "source": [
    "### Plot"
   ]
  },
  {
   "cell_type": "code",
   "execution_count": null,
   "metadata": {},
   "outputs": [],
   "source": [
    "# Create a game plane\n",
    "plane = Analysis(GuessingGame)\n",
    "\n",
    "# Load the files with the same label\n",
    "files = [f'raw_results/guessing_game/gpt-3.5-turbo-0613_guessing_game_v1_{i}.json' for i in range(1,6)]\n",
    "plane.add_avg(files, \"GPT-3.5-0613\")\n",
    "\n",
    "files = [f'raw_results/guessing_game/gpt-3.5-turbo-1106_guessing_game_v1_{i}.json' for i in range(1,6)]\n",
    "plane.add_avg(files, \"GPT-3.5-1106\")\n",
    "\n",
    "files = [f'raw_results/guessing_game/guessing_game_v1_{i}.json' for i in range(1,6)]\n",
    "plane.add_avg(files, \"GPT-3.5-0125\")\n",
    "\n",
    "files = [f'raw_results/guessing_game/gpt-4-0125-preview_guessing_game_v1_{i}.json' for i in range(1,6)]\n",
    "plane.add_avg(files, \"GPT-4-0125\")\n",
    "\n",
    "files = [f'raw_results/guessing_game/gemini-1.0-pro_guessing_game_v1_{i}.json' for i in range(1,6)]\n",
    "plane.add_avg(files, \"Gemini-1.0-Pro\")\n",
    "\n",
    "files = [f'raw_results/guessing_game/gemini-1.5-pro_guessing_game_v1_{i}.json' for i in range(1,6)]\n",
    "plane.add_avg(files, \"Gemini-1.5-Pro\")\n",
    "\n",
    "# Plot the game\n",
    "plane.plot(xlabel=\"\", ylim=(-5, 105), savename=\"closed-source_guessing_game\")"
   ]
  }
 ],
 "metadata": {
  "kernelspec": {
   "display_name": "env_python",
   "language": "python",
   "name": "python3"
  },
  "language_info": {
   "codemirror_mode": {
    "name": "ipython",
    "version": 3
   },
   "file_extension": ".py",
   "mimetype": "text/x-python",
   "name": "python",
   "nbconvert_exporter": "python",
   "pygments_lexer": "ipython3",
   "version": "3.8.7"
  }
 },
 "nbformat": 4,
 "nbformat_minor": 2
}
