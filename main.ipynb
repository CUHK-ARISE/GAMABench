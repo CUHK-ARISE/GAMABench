{
 "cells": [
  {
   "cell_type": "code",
   "execution_count": null,
   "metadata": {},
   "outputs": [],
   "source": [
    "from server import *\n",
    "from prompt_template.prompt_rephrase import *\n",
    "from global_functions import *\n",
    "\n",
    "from games.guessing_game import *\n",
    "from games.bar_game import *\n",
    "from games.pirate_game import *\n",
    "from games.diner_dilemma import *\n",
    "from games.divide_dollar import *\n",
    "from games.sealed_bid_auction import *\n",
    "from games.public_goods import *\n",
    "from games.battle_royale import *"
   ]
  },
  {
   "cell_type": "code",
   "execution_count": null,
   "metadata": {},
   "outputs": [],
   "source": [
    "# Rephrase demo\n",
    "rephrase_files = ['description', 'report_explicit', 'report_implicit', 'request']\n",
    "rephrase([f\"prompt_template/bar_game/{f}_v1.txt\" for f in rephrase_files])"
   ]
  },
  {
   "cell_type": "code",
   "execution_count": null,
   "metadata": {},
   "outputs": [],
   "source": [
    "# Game Configuration\n",
    "player_num = 10\n",
    "models = ['gpt-3.5-turbo' if i%2==0 else 'gpt-4' for i in range(player_num)]\n",
    "models = ['gpt-3.5-turbo' for i in range(player_num)]\n",
    "version = 'v1'"
   ]
  },
  {
   "cell_type": "code",
   "execution_count": null,
   "metadata": {},
   "outputs": [],
   "source": [
    "# Guessing Game\n",
    "game = GuessingGame(player_num=10, min=0, max=100, ratio=2/3, ratio_str='2/3', version='v1')\n",
    "game.run(20)\n",
    "\n",
    "# Load a game\n",
    "# game = load('save/guessing_game.json', GuessingGame, 'guessing_game2')  # load and rename the saved data \n",
    "# game.run(20)\n",
    "\n",
    "# # Plot the graph\n",
    "# game.show('model', ['gpt-3.5-turbo'])\n",
    "# game.show('id', [f\"player_{i}\" for i in range(player_num) if i%2==0])"
   ]
  },
  {
   "cell_type": "code",
   "execution_count": null,
   "metadata": {},
   "outputs": [],
   "source": [
    "# Bar Game\n",
    "## Explicit Game\n",
    "bargame_explicit = BarGame(player_num=10, min=0, max=10, home=5, ratio=0.6, ratio_str='60%',\n",
    "                           version='v1', mode='explicit', name_exp='bargame_explicit')\n",
    "bargame_explicit.run(20)\n",
    "\n",
    "## Implicit Game\n",
    "bargame_implicit = BarGame(player_num=10, min=0, max=10, home=5, ratio=0.6, ratio_str='60%',\n",
    "                           version='v1', mode='explicit', name_exp='bargame_implicit')\n",
    "bargame_implicit.run(20)"
   ]
  },
  {
   "cell_type": "code",
   "execution_count": null,
   "metadata": {},
   "outputs": [],
   "source": [
    "# Pirate Game\n",
    "pirate_game = PirateGame(player_num=10, gold=100, version='v1')\n",
    "pirate_game.run(10)"
   ]
  },
  {
   "cell_type": "code",
   "execution_count": null,
   "metadata": {},
   "outputs": [],
   "source": [
    "# Divide the Dollar Game\n",
    "divide_dollar = DivideDollar(player_num=10, golds=100, version='v1')\n",
    "divide_dollar.run(20)"
   ]
  },
  {
   "cell_type": "code",
   "execution_count": null,
   "metadata": {},
   "outputs": [],
   "source": [
    "# Diner Dilemma\n",
    "cheap_cost, cheap_utility, exp_cost, exp_utility = 20, 40, 50, 60\n",
    "cheap_cost, cheap_utility, exp_cost, exp_utility = 5, 15, 10, 17\n",
    "\n",
    "diner_dilemma = DinerDilemma(player_num=20, cheap_cost=20, cheap_utility=40,\n",
    "                             exp_cost=50, exp_utility=60, version='v1')\n",
    "diner_dilemma.run(20)"
   ]
  },
  {
   "cell_type": "code",
   "execution_count": null,
   "metadata": {},
   "outputs": [],
   "source": [
    "# Sealed Bid auction \n",
    "sealed_bid_auction = SealedBidAuction(player_num=10, mode=\"second-highest bid\", valuation=100, version='v1')\n",
    "sealed_bid_auction.run(20)"
   ]
  },
  {
   "cell_type": "code",
   "execution_count": null,
   "metadata": {},
   "outputs": [],
   "source": [
    "# Public Goods Game\n",
    "public_goods_game = PublicGoods(player_num=10, tokens=100, ratio=random.randint(1, 10 / 2), version='v1')\n",
    "public_goods_game.run(20)"
   ]
  },
  {
   "cell_type": "code",
   "execution_count": null,
   "metadata": {},
   "outputs": [],
   "source": [
    "# Battle Royale\n",
    "battle_royale = BattleRoyale(player_num=10, version='v1')\n",
    "battle_royale.run(20)"
   ]
  }
 ],
 "metadata": {
  "kernelspec": {
   "display_name": "env_python",
   "language": "python",
   "name": "python3"
  },
  "language_info": {
   "codemirror_mode": {
    "name": "ipython",
    "version": 3
   },
   "file_extension": ".py",
   "mimetype": "text/x-python",
   "name": "python",
   "nbconvert_exporter": "python",
   "pygments_lexer": "ipython3",
   "version": "3.10.6"
  }
 },
 "nbformat": 4,
 "nbformat_minor": 2
}
